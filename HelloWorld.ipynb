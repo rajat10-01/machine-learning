{
  "nbformat": 4,
  "nbformat_minor": 0,
  "metadata": {
    "colab": {
      "name": "HelloWorld.ipynb",
      "provenance": [],
      "authorship_tag": "ABX9TyNmY1ol/j6gMCqyVtR3Cf/x",
      "include_colab_link": true
    },
    "kernelspec": {
      "name": "python3",
      "display_name": "Python 3"
    }
  },
  "cells": [
    {
      "cell_type": "markdown",
      "metadata": {
        "id": "view-in-github",
        "colab_type": "text"
      },
      "source": [
        "<a href=\"https://colab.research.google.com/github/rajat10-01/machine-learning/blob/master/HelloWorld.ipynb\" target=\"_parent\"><img src=\"https://colab.research.google.com/assets/colab-badge.svg\" alt=\"Open In Colab\"/></a>"
      ]
    },
    {
      "cell_type": "code",
      "metadata": {
        "id": "dtVOmu4uLVqC",
        "colab_type": "code",
        "colab": {}
      },
      "source": [
        "import numpy as np"
      ],
      "execution_count": 0,
      "outputs": []
    },
    {
      "cell_type": "code",
      "metadata": {
        "id": "UKu4tS-kLXnQ",
        "colab_type": "code",
        "colab": {}
      },
      "source": [
        "import tensorflow as tf\n",
        "%tensorflow_version 2.x"
      ],
      "execution_count": 0,
      "outputs": []
    },
    {
      "cell_type": "code",
      "metadata": {
        "id": "DDGAXAKvN6Kf",
        "colab_type": "code",
        "colab": {}
      },
      "source": [
        "from tensorflow import keras"
      ],
      "execution_count": 0,
      "outputs": []
    },
    {
      "cell_type": "code",
      "metadata": {
        "id": "94dcEzFHPyrr",
        "colab_type": "code",
        "colab": {}
      },
      "source": [
        "from __future__ import absolute_import, division, print_function, unicode_literals"
      ],
      "execution_count": 0,
      "outputs": []
    },
    {
      "cell_type": "code",
      "metadata": {
        "id": "D3LhgYAmP4p_",
        "colab_type": "code",
        "colab": {}
      },
      "source": [
        "model = tf.keras.Sequential()"
      ],
      "execution_count": 0,
      "outputs": []
    },
    {
      "cell_type": "code",
      "metadata": {
        "id": "dxICpC65WjVG",
        "colab_type": "code",
        "colab": {}
      },
      "source": [
        "x = np.array([1, 0.2, 0.4, 0.9, 1, 0, 0.6, 0.3])"
      ],
      "execution_count": 0,
      "outputs": []
    },
    {
      "cell_type": "code",
      "metadata": {
        "id": "bBZCnqFWX7Ir",
        "colab_type": "code",
        "colab": {}
      },
      "source": [
        "x_t = x.transpose()"
      ],
      "execution_count": 0,
      "outputs": []
    },
    {
      "cell_type": "code",
      "metadata": {
        "id": "FpCwZEdjYWFR",
        "colab_type": "code",
        "colab": {}
      },
      "source": [
        "w = np.array([[-0.05, 0.1, 0.1, 0.2, 0.35, 0.6, -0.9, -0.1],[-0.5, 0.1, 0.1, 0.02, 0.3, 0.36, 0.9, 0.1],[-0.05, 0.1, 0.1, 0.2, 0.35, 0.6, 0.9, -0.1],[-0.5, 0.1, 0.1, 0.02, 0.3, 0.36, -0.9, 0.1]])\n"
      ],
      "execution_count": 0,
      "outputs": []
    },
    {
      "cell_type": "code",
      "metadata": {
        "id": "a408Ba89Yznw",
        "colab_type": "code",
        "outputId": "b1b1f4f6-1b6d-453f-f84f-c827201ed64e",
        "colab": {
          "base_uri": "https://localhost:8080/",
          "height": 85
        }
      },
      "source": [
        "w"
      ],
      "execution_count": 0,
      "outputs": [
        {
          "output_type": "execute_result",
          "data": {
            "text/plain": [
              "array([[-0.05,  0.1 ,  0.1 ,  0.2 ,  0.35,  0.6 , -0.9 , -0.1 ],\n",
              "       [-0.5 ,  0.1 ,  0.1 ,  0.02,  0.3 ,  0.36,  0.9 ,  0.1 ],\n",
              "       [-0.05,  0.1 ,  0.1 ,  0.2 ,  0.35,  0.6 ,  0.9 , -0.1 ],\n",
              "       [-0.5 ,  0.1 ,  0.1 ,  0.02,  0.3 ,  0.36, -0.9 ,  0.1 ]])"
            ]
          },
          "metadata": {
            "tags": []
          },
          "execution_count": 45
        }
      ]
    },
    {
      "cell_type": "code",
      "metadata": {
        "id": "Aro5kf3NY-MY",
        "colab_type": "code",
        "colab": {}
      },
      "source": [
        "y = np.matmul(w, x_t)"
      ],
      "execution_count": 0,
      "outputs": []
    },
    {
      "cell_type": "code",
      "metadata": {
        "id": "g_sUCU1abMAS",
        "colab_type": "code",
        "outputId": "14b2cb2a-4cb2-433b-9938-7d231e9b4ac0",
        "colab": {
          "base_uri": "https://localhost:8080/",
          "height": 34
        }
      },
      "source": [
        "y.shape"
      ],
      "execution_count": 0,
      "outputs": [
        {
          "output_type": "execute_result",
          "data": {
            "text/plain": [
              "(4,)"
            ]
          },
          "metadata": {
            "tags": []
          },
          "execution_count": 58
        }
      ]
    },
    {
      "cell_type": "code",
      "metadata": {
        "id": "455mpVPGZTqR",
        "colab_type": "code",
        "outputId": "c1e6355e-ba6b-49ad-b34a-6082f1f22e86",
        "colab": {
          "base_uri": "https://localhost:8080/",
          "height": 34
        }
      },
      "source": [
        "y"
      ],
      "execution_count": 0,
      "outputs": [
        {
          "output_type": "execute_result",
          "data": {
            "text/plain": [
              "array([-0.03 ,  0.448,  1.05 , -0.632])"
            ]
          },
          "metadata": {
            "tags": []
          },
          "execution_count": 47
        }
      ]
    },
    {
      "cell_type": "code",
      "metadata": {
        "id": "mze7AkqpZVtZ",
        "colab_type": "code",
        "colab": {}
      },
      "source": [
        "b= np.array([-0.8,-0.1,-0.1,-0.1])"
      ],
      "execution_count": 0,
      "outputs": []
    },
    {
      "cell_type": "code",
      "metadata": {
        "id": "9AcU8Lmaa74S",
        "colab_type": "code",
        "outputId": "d879c223-8aa7-4774-e68d-887e6d3d5ff3",
        "colab": {
          "base_uri": "https://localhost:8080/",
          "height": 34
        }
      },
      "source": [
        "b.shape"
      ],
      "execution_count": 0,
      "outputs": [
        {
          "output_type": "execute_result",
          "data": {
            "text/plain": [
              "(4,)"
            ]
          },
          "metadata": {
            "tags": []
          },
          "execution_count": 57
        }
      ]
    },
    {
      "cell_type": "code",
      "metadata": {
        "id": "zT4Llt0lZok5",
        "colab_type": "code",
        "colab": {}
      },
      "source": [
        "y_ = np.add(y,b)"
      ],
      "execution_count": 0,
      "outputs": []
    },
    {
      "cell_type": "code",
      "metadata": {
        "id": "dKtx-nh7ZvPx",
        "colab_type": "code",
        "outputId": "d9f87fb1-7769-4e5e-8960-48e4fc6cc214",
        "colab": {
          "base_uri": "https://localhost:8080/",
          "height": 34
        }
      },
      "source": [
        "y_"
      ],
      "execution_count": 0,
      "outputs": [
        {
          "output_type": "execute_result",
          "data": {
            "text/plain": [
              "array([-0.83 ,  0.348,  0.95 , -0.732])"
            ]
          },
          "metadata": {
            "tags": []
          },
          "execution_count": 50
        }
      ]
    },
    {
      "cell_type": "code",
      "metadata": {
        "id": "HhyuuRqvZwjh",
        "colab_type": "code",
        "colab": {}
      },
      "source": [
        "y_t = y_.transpose()"
      ],
      "execution_count": 0,
      "outputs": []
    },
    {
      "cell_type": "code",
      "metadata": {
        "id": "hFWHyOycaVaB",
        "colab_type": "code",
        "colab": {}
      },
      "source": [
        "n_y = np.matmul(np.array([-0.05, 0.1, 0.1, 0.2]), y_t)"
      ],
      "execution_count": 0,
      "outputs": []
    },
    {
      "cell_type": "code",
      "metadata": {
        "id": "7Ve0HZyZafsR",
        "colab_type": "code",
        "outputId": "beb5fc8b-cf97-457c-c469-c7196ab00cd7",
        "colab": {
          "base_uri": "https://localhost:8080/",
          "height": 34
        }
      },
      "source": [
        "n_y"
      ],
      "execution_count": 0,
      "outputs": [
        {
          "output_type": "execute_result",
          "data": {
            "text/plain": [
              "0.024900000000000033"
            ]
          },
          "metadata": {
            "tags": []
          },
          "execution_count": 55
        }
      ]
    },
    {
      "cell_type": "code",
      "metadata": {
        "id": "aWnKj-w1ahSZ",
        "colab_type": "code",
        "outputId": "10b8b0ae-3729-4ca2-afa0-21b319005cc6",
        "colab": {
          "base_uri": "https://localhost:8080/",
          "height": 34
        }
      },
      "source": [
        "y_t.shape"
      ],
      "execution_count": 0,
      "outputs": [
        {
          "output_type": "execute_result",
          "data": {
            "text/plain": [
              "(4,)"
            ]
          },
          "metadata": {
            "tags": []
          },
          "execution_count": 56
        }
      ]
    },
    {
      "cell_type": "code",
      "metadata": {
        "id": "6n0K_XVLawRh",
        "colab_type": "code",
        "colab": {}
      },
      "source": [
        ""
      ],
      "execution_count": 0,
      "outputs": []
    }
  ]
}